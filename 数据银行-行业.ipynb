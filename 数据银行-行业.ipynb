{
 "cells": [
  {
   "cell_type": "code",
   "execution_count": 19,
   "metadata": {},
   "outputs": [],
   "source": [
    "import json\n",
    "import pandas as pd\n",
    "import xlwt\n",
    "import os \n",
    "import pandas as pd\n",
    "import numpy as np"
   ]
  },
  {
   "cell_type": "code",
   "execution_count": 20,
   "metadata": {},
   "outputs": [],
   "source": [
    "path='C:/Users/yingshan.Zhang/Desktop/策略中心/行业/'\n",
    "files=os.listdir(path)\n",
    "files_json=list(filter(lambda x: x[-5:]=='.json',files))"
   ]
  },
  {
   "cell_type": "code",
   "execution_count": 18,
   "metadata": {},
   "outputs": [],
   "source": [
    "for file in files_json:\n",
    "    f=open(path+file,encoding='UTF-8')\n",
    "    result=json.load(f)\n",
    "    result\n",
    "    f.close()\n",
    "    sibresult=pd.DataFrame(result['data'])\n",
    "    sibresult\n",
    "    A=sibresult['tagTypeName'][0]\n",
    "    B=sibresult['tagTypeName'][1]\n",
    "    sex=sibresult['tagData'][0]\n",
    "    sex=pd.DataFrame({A: [i['tagValueName'] for i in sex],'数量': [i['cnt'] for i in sex],'占比': [str(i['rate'])+'%' for i in sex]})\n",
    "    year=sibresult['tagData'][1]\n",
    "    year=pd.DataFrame({B: [i['tagValueName'] for i in year],'数量': [i['cnt'] for i in year],'占比': [str(i['rate'])+'%' for i in year]})\n",
    "    writer=pd.ExcelWriter(file[:-5]+'.xlsx')\n",
    "    sex.to_excel(writer,index=False)\n",
    "    year.to_excel(writer,startcol=3,index=False)\n",
    "    writer.save()\n",
    "    writer.close()"
   ]
  },
  {
   "cell_type": "code",
   "execution_count": 21,
   "metadata": {},
   "outputs": [],
   "source": [
    "for file in files_json:\n",
    "    f=open(path+file,encoding='UTF-8')\n",
    "    result=json.load(f)\n",
    "    result\n",
    "    f.close()\n",
    "    sibresult=pd.DataFrame(result['data'])\n",
    "    sibresult\n",
    "    A=sibresult['tagTypeName'][0]\n",
    "    B=sibresult['tagTypeName'][1]\n",
    "    C=sibresult['tagTypeName'][2]\n",
    "    D=sibresult['tagTypeName'][3]\n",
    "    sex=sibresult['tagData'][0]\n",
    "    sex=pd.DataFrame({A: [i['tagValueName'] for i in sex],'数量': [i['cnt'] for i in sex],'占比': [str(i['rate'])+'%' for i in sex]})\n",
    "    year=sibresult['tagData'][1]\n",
    "    year=pd.DataFrame({B: [i['tagValueName'] for i in year],'数量': [i['cnt'] for i in year],'占比': [str(i['rate'])+'%' for i in year]})\n",
    "    occ=sibresult['tagData'][2]\n",
    "    occ=pd.DataFrame({C: [i['tagValueName'] for i in occ],'数量': [i['cnt'] for i in occ],'占比': [str(i['rate'])+'%' for i in occ]})\n",
    "    sta=sibresult['tagData'][3]\n",
    "    sta=pd.DataFrame({D: [i['tagValueName'] for i in sta],'数量': [i['cnt'] for i in sta],'占比': [str(i['rate'])+'%' for i in sta]})\n",
    "    writer=pd.ExcelWriter(file[:-5]+'.xlsx')\n",
    "    sex.to_excel(writer,index=False)\n",
    "    year.to_excel(writer,startcol=3,index=False)\n",
    "    occ.to_excel(writer,startcol=6,index=False)\n",
    "    sta.to_excel(writer,startcol=9,index=False)\n",
    "    writer.save()\n",
    "    writer.close()"
   ]
  },
  {
   "cell_type": "code",
   "execution_count": 6,
   "metadata": {},
   "outputs": [],
   "source": [
    "for file in files_json:\n",
    "    f=open(path+file,encoding='UTF-8')\n",
    "    result=json.load(f)\n",
    "    result\n",
    "    f.close()\n",
    "    sibresult=pd.DataFrame(result['data'])\n",
    "    sibresult\n",
    "    A=sibresult['tagTypeName'][0]\n",
    "    B=sibresult['tagTypeName'][1]\n",
    "    C=sibresult['tagTypeName'][2]\n",
    "    D=sibresult['tagTypeName'][3]\n",
    "    E=sibresult['tagTypeName'][4]\n",
    "    F=sibresult['tagTypeName'][5]\n",
    "    sex=sibresult['tagData'][0]\n",
    "    sex=pd.DataFrame({A: [i['tagValueName'] for i in sex],'数量': [i['cnt'] for i in sex],'占比': [str(i['rate'])+'%' for i in sex]})\n",
    "    year=sibresult['tagData'][1]\n",
    "    year=pd.DataFrame({B: [i['tagValueName'] for i in year],'数量': [i['cnt'] for i in year],'占比': [str(i['rate'])+'%' for i in year]})\n",
    "    occ=sibresult['tagData'][2]\n",
    "    occ=pd.DataFrame({C: [i['tagValueName'] for i in occ],'数量': [i['cnt'] for i in occ],'占比': [str(i['rate'])+'%' for i in occ]})\n",
    "    sta=sibresult['tagData'][3]\n",
    "    sta=pd.DataFrame({D: [i['tagValueName'] for i in sta],'数量': [i['cnt'] for i in sta],'占比': [str(i['rate'])+'%' for i in sta]})\n",
    "    prc=sibresult['tagData'][4]\n",
    "    prc=pd.DataFrame({E: [i['tagValueName'] for i in prc],'数量': [i['cnt'] for i in prc],'占比': [str(i['rate'])+'%' for i in prc]})\n",
    "    hyd=sibresult['tagData'][5]\n",
    "    hyd=pd.DataFrame({F: [i['tagValueName'] for i in hyd],'数量': [i['cnt'] for i in hyd],'占比': [str(i['rate'])+'%' for i in hyd]})\n",
    "    writer=pd.ExcelWriter(file[:-5]+'.xlsx')\n",
    "    sex.to_excel(writer,index=False)\n",
    "    year.to_excel(writer,startcol=3,index=False)\n",
    "    occ.to_excel(writer,startcol=6,index=False)\n",
    "    sta.to_excel(writer,startcol=9,index=False)\n",
    "    prc.to_excel(writer,startcol=12,index=False)\n",
    "    hyd.to_excel(writer,startcol=15,index=False)\n",
    "    writer.save()\n",
    "    writer.close()"
   ]
  },
  {
   "cell_type": "code",
   "execution_count": 12,
   "metadata": {},
   "outputs": [],
   "source": [
    "f.close()"
   ]
  },
  {
   "cell_type": "code",
   "execution_count": 3,
   "metadata": {},
   "outputs": [],
   "source": [
    "for file in files_json:\n",
    "    f=open(path+file,encoding='UTF-8')\n",
    "    result=json.load(f)\n",
    "    result\n",
    "    f.close()\n",
    "    sibresult=pd.DataFrame(result['data'])\n",
    "    sibresult\n",
    "    A=sibresult['tagTypeName'][0]\n",
    "    B=sibresult['tagTypeName'][1]\n",
    "    C=sibresult['tagTypeName'][2]\n",
    "    sex=sibresult['tagData'][0]\n",
    "    sex=pd.DataFrame({A: [i['tagValueName'] for i in sex],'数量': [i['cnt'] for i in sex],'占比': [str(i['rate'])+'%' for i in sex]})\n",
    "    year=sibresult['tagData'][1]\n",
    "    year=pd.DataFrame({B: [i['tagValueName'] for i in year],'数量': [i['cnt'] for i in year],'占比': [str(i['rate'])+'%' for i in year]})\n",
    "    occ=sibresult['tagData'][2]\n",
    "    occ=pd.DataFrame({C: [i['tagValueName'] for i in occ],'数量': [i['cnt'] for i in occ],'占比': [str(i['rate'])+'%' for i in occ]})\n",
    "    writer=pd.ExcelWriter(file[:-5]+'.xlsx')\n",
    "    sex.to_excel(writer,index=False)\n",
    "    year.to_excel(writer,startcol=3,index=False)\n",
    "    occ.to_excel(writer,startcol=6,index=False)\n",
    "    writer.save()\n",
    "    writer.close()"
   ]
  },
  {
   "cell_type": "code",
   "execution_count": null,
   "metadata": {},
   "outputs": [],
   "source": []
  },
  {
   "cell_type": "code",
   "execution_count": null,
   "metadata": {},
   "outputs": [],
   "source": []
  },
  {
   "cell_type": "code",
   "execution_count": 7,
   "metadata": {},
   "outputs": [],
   "source": [
    "from datetime import datetime,timedelta\n",
    "from dateutil.parser import parse"
   ]
  },
  {
   "cell_type": "code",
   "execution_count": 15,
   "metadata": {},
   "outputs": [
    {
     "ename": "TypeError",
     "evalue": "Parser must be a string or character stream, not int",
     "output_type": "error",
     "traceback": [
      "\u001b[1;31m---------------------------------------------------------------------------\u001b[0m",
      "\u001b[1;31mTypeError\u001b[0m                                 Traceback (most recent call last)",
      "\u001b[1;32m<ipython-input-15-8d55e83789f3>\u001b[0m in \u001b[0;36m<module>\u001b[1;34m\u001b[0m\n\u001b[1;32m----> 1\u001b[1;33m \u001b[0mparse\u001b[0m\u001b[1;33m(\u001b[0m\u001b[1;36m20190811\u001b[0m\u001b[1;33m)\u001b[0m\u001b[1;33m\u001b[0m\u001b[0m\n\u001b[0m",
      "\u001b[1;32mC:\\python\\lib\\site-packages\\dateutil\\parser\\_parser.py\u001b[0m in \u001b[0;36mparse\u001b[1;34m(timestr, parserinfo, **kwargs)\u001b[0m\n\u001b[0;32m   1354\u001b[0m         \u001b[1;32mreturn\u001b[0m \u001b[0mparser\u001b[0m\u001b[1;33m(\u001b[0m\u001b[0mparserinfo\u001b[0m\u001b[1;33m)\u001b[0m\u001b[1;33m.\u001b[0m\u001b[0mparse\u001b[0m\u001b[1;33m(\u001b[0m\u001b[0mtimestr\u001b[0m\u001b[1;33m,\u001b[0m \u001b[1;33m**\u001b[0m\u001b[0mkwargs\u001b[0m\u001b[1;33m)\u001b[0m\u001b[1;33m\u001b[0m\u001b[0m\n\u001b[0;32m   1355\u001b[0m     \u001b[1;32melse\u001b[0m\u001b[1;33m:\u001b[0m\u001b[1;33m\u001b[0m\u001b[0m\n\u001b[1;32m-> 1356\u001b[1;33m         \u001b[1;32mreturn\u001b[0m \u001b[0mDEFAULTPARSER\u001b[0m\u001b[1;33m.\u001b[0m\u001b[0mparse\u001b[0m\u001b[1;33m(\u001b[0m\u001b[0mtimestr\u001b[0m\u001b[1;33m,\u001b[0m \u001b[1;33m**\u001b[0m\u001b[0mkwargs\u001b[0m\u001b[1;33m)\u001b[0m\u001b[1;33m\u001b[0m\u001b[0m\n\u001b[0m\u001b[0;32m   1357\u001b[0m \u001b[1;33m\u001b[0m\u001b[0m\n\u001b[0;32m   1358\u001b[0m \u001b[1;33m\u001b[0m\u001b[0m\n",
      "\u001b[1;32mC:\\python\\lib\\site-packages\\dateutil\\parser\\_parser.py\u001b[0m in \u001b[0;36mparse\u001b[1;34m(self, timestr, default, ignoretz, tzinfos, **kwargs)\u001b[0m\n\u001b[0;32m    643\u001b[0m                                                       second=0, microsecond=0)\n\u001b[0;32m    644\u001b[0m \u001b[1;33m\u001b[0m\u001b[0m\n\u001b[1;32m--> 645\u001b[1;33m         \u001b[0mres\u001b[0m\u001b[1;33m,\u001b[0m \u001b[0mskipped_tokens\u001b[0m \u001b[1;33m=\u001b[0m \u001b[0mself\u001b[0m\u001b[1;33m.\u001b[0m\u001b[0m_parse\u001b[0m\u001b[1;33m(\u001b[0m\u001b[0mtimestr\u001b[0m\u001b[1;33m,\u001b[0m \u001b[1;33m**\u001b[0m\u001b[0mkwargs\u001b[0m\u001b[1;33m)\u001b[0m\u001b[1;33m\u001b[0m\u001b[0m\n\u001b[0m\u001b[0;32m    646\u001b[0m \u001b[1;33m\u001b[0m\u001b[0m\n\u001b[0;32m    647\u001b[0m         \u001b[1;32mif\u001b[0m \u001b[0mres\u001b[0m \u001b[1;32mis\u001b[0m \u001b[1;32mNone\u001b[0m\u001b[1;33m:\u001b[0m\u001b[1;33m\u001b[0m\u001b[0m\n",
      "\u001b[1;32mC:\\python\\lib\\site-packages\\dateutil\\parser\\_parser.py\u001b[0m in \u001b[0;36m_parse\u001b[1;34m(self, timestr, dayfirst, yearfirst, fuzzy, fuzzy_with_tokens)\u001b[0m\n\u001b[0;32m    719\u001b[0m \u001b[1;33m\u001b[0m\u001b[0m\n\u001b[0;32m    720\u001b[0m         \u001b[0mres\u001b[0m \u001b[1;33m=\u001b[0m \u001b[0mself\u001b[0m\u001b[1;33m.\u001b[0m\u001b[0m_result\u001b[0m\u001b[1;33m(\u001b[0m\u001b[1;33m)\u001b[0m\u001b[1;33m\u001b[0m\u001b[0m\n\u001b[1;32m--> 721\u001b[1;33m         \u001b[0ml\u001b[0m \u001b[1;33m=\u001b[0m \u001b[0m_timelex\u001b[0m\u001b[1;33m.\u001b[0m\u001b[0msplit\u001b[0m\u001b[1;33m(\u001b[0m\u001b[0mtimestr\u001b[0m\u001b[1;33m)\u001b[0m         \u001b[1;31m# Splits the timestr into tokens\u001b[0m\u001b[1;33m\u001b[0m\u001b[0m\n\u001b[0m\u001b[0;32m    722\u001b[0m \u001b[1;33m\u001b[0m\u001b[0m\n\u001b[0;32m    723\u001b[0m         \u001b[0mskipped_idxs\u001b[0m \u001b[1;33m=\u001b[0m \u001b[1;33m[\u001b[0m\u001b[1;33m]\u001b[0m\u001b[1;33m\u001b[0m\u001b[0m\n",
      "\u001b[1;32mC:\\python\\lib\\site-packages\\dateutil\\parser\\_parser.py\u001b[0m in \u001b[0;36msplit\u001b[1;34m(cls, s)\u001b[0m\n\u001b[0;32m    205\u001b[0m     \u001b[1;33m@\u001b[0m\u001b[0mclassmethod\u001b[0m\u001b[1;33m\u001b[0m\u001b[0m\n\u001b[0;32m    206\u001b[0m     \u001b[1;32mdef\u001b[0m \u001b[0msplit\u001b[0m\u001b[1;33m(\u001b[0m\u001b[0mcls\u001b[0m\u001b[1;33m,\u001b[0m \u001b[0ms\u001b[0m\u001b[1;33m)\u001b[0m\u001b[1;33m:\u001b[0m\u001b[1;33m\u001b[0m\u001b[0m\n\u001b[1;32m--> 207\u001b[1;33m         \u001b[1;32mreturn\u001b[0m \u001b[0mlist\u001b[0m\u001b[1;33m(\u001b[0m\u001b[0mcls\u001b[0m\u001b[1;33m(\u001b[0m\u001b[0ms\u001b[0m\u001b[1;33m)\u001b[0m\u001b[1;33m)\u001b[0m\u001b[1;33m\u001b[0m\u001b[0m\n\u001b[0m\u001b[0;32m    208\u001b[0m \u001b[1;33m\u001b[0m\u001b[0m\n\u001b[0;32m    209\u001b[0m     \u001b[1;33m@\u001b[0m\u001b[0mclassmethod\u001b[0m\u001b[1;33m\u001b[0m\u001b[0m\n",
      "\u001b[1;32mC:\\python\\lib\\site-packages\\dateutil\\parser\\_parser.py\u001b[0m in \u001b[0;36m__init__\u001b[1;34m(self, instream)\u001b[0m\n\u001b[0;32m     74\u001b[0m         \u001b[1;32melif\u001b[0m \u001b[0mgetattr\u001b[0m\u001b[1;33m(\u001b[0m\u001b[0minstream\u001b[0m\u001b[1;33m,\u001b[0m \u001b[1;34m'read'\u001b[0m\u001b[1;33m,\u001b[0m \u001b[1;32mNone\u001b[0m\u001b[1;33m)\u001b[0m \u001b[1;32mis\u001b[0m \u001b[1;32mNone\u001b[0m\u001b[1;33m:\u001b[0m\u001b[1;33m\u001b[0m\u001b[0m\n\u001b[0;32m     75\u001b[0m             raise TypeError('Parser must be a string or character stream, not '\n\u001b[1;32m---> 76\u001b[1;33m                             '{itype}'.format(itype=instream.__class__.__name__))\n\u001b[0m\u001b[0;32m     77\u001b[0m \u001b[1;33m\u001b[0m\u001b[0m\n\u001b[0;32m     78\u001b[0m         \u001b[0mself\u001b[0m\u001b[1;33m.\u001b[0m\u001b[0minstream\u001b[0m \u001b[1;33m=\u001b[0m \u001b[0minstream\u001b[0m\u001b[1;33m\u001b[0m\u001b[0m\n",
      "\u001b[1;31mTypeError\u001b[0m: Parser must be a string or character stream, not int"
     ]
    }
   ],
   "source": [
    "parse(20190811)"
   ]
  },
  {
   "cell_type": "code",
   "execution_count": null,
   "metadata": {},
   "outputs": [],
   "source": []
  }
 ],
 "metadata": {
  "kernelspec": {
   "display_name": "Python 3",
   "language": "python",
   "name": "python3"
  },
  "language_info": {
   "codemirror_mode": {
    "name": "ipython",
    "version": 3
   },
   "file_extension": ".py",
   "mimetype": "text/x-python",
   "name": "python",
   "nbconvert_exporter": "python",
   "pygments_lexer": "ipython3",
   "version": "3.6.5"
  }
 },
 "nbformat": 4,
 "nbformat_minor": 2
}
