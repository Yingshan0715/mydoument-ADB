{
 "cells": [
  {
   "cell_type": "code",
   "execution_count": 11,
   "metadata": {},
   "outputs": [],
   "source": [
    "import json\n",
    "import pandas as pd\n",
    "import xlwt\n",
    "import os \n",
    "import pandas as pd\n",
    "import numpy as np"
   ]
  },
  {
   "cell_type": "code",
   "execution_count": 12,
   "metadata": {},
   "outputs": [],
   "source": [
    "path='C:/Users/yingshan.Zhang/Desktop/策略中心/'\n",
    "files=os.listdir(path)\n",
    "files_json=list(filter(lambda x: x[-5:]=='.json',files))"
   ]
  },
  {
   "cell_type": "code",
   "execution_count": 13,
   "metadata": {},
   "outputs": [],
   "source": [
    "for file in files_json:\n",
    "    f=open(path+file,encoding='UTF-8')\n",
    "    result=json.load(f)\n",
    "    result\n",
    "    f.close()\n",
    "    sibresult=pd.DataFrame(result['data'])\n",
    "    sibresult\n",
    "    A=sibresult['tagTypeName'][0]\n",
    "    B=sibresult['tagTypeName'][1]\n",
    "    C=sibresult['tagTypeName'][2]\n",
    "    D=sibresult['tagTypeName'][3]\n",
    "    E=sibresult['tagTypeName'][4]\n",
    "    F=sibresult['tagTypeName'][5]\n",
    "    G=sibresult['tagTypeName'][6]\n",
    "    H=sibresult['tagTypeName'][7]\n",
    "    I=sibresult['tagTypeName'][8]\n",
    "    sex=sibresult['tagData'][0]\n",
    "    sex=pd.DataFrame({A: [i['tagValueName'] for i in sex],'数量': [i['cnt'] for i in sex],'占比': [str(i['rate'])+'%' for i in sex]})\n",
    "    year=sibresult['tagData'][1]\n",
    "    year=pd.DataFrame({B: [i['tagValueName'] for i in year],'数量': [i['cnt'] for i in year],'占比': [str(i['rate'])+'%' for i in year]})\n",
    "    occ=sibresult['tagData'][2]\n",
    "    occ=pd.DataFrame({C: [i['tagValueName'] for i in occ],'数量': [i['cnt'] for i in occ],'占比': [str(i['rate'])+'%' for i in occ]})\n",
    "    sta=sibresult['tagData'][3]\n",
    "    sta=pd.DataFrame({D: [i['tagValueName'] for i in sta],'数量': [i['cnt'] for i in sta],'占比': [str(i['rate'])+'%' for i in sta]})\n",
    "    prc=sibresult['tagData'][4]\n",
    "    prc=pd.DataFrame({E: [i['tagValueName'] for i in prc],'数量': [i['cnt'] for i in prc],'占比': [str(i['rate'])+'%' for i in prc]})\n",
    "    hyd=sibresult['tagData'][5]\n",
    "    hyd=pd.DataFrame({F: [i['tagValueName'] for i in hyd],'数量': [i['cnt'] for i in hyd],'占比': [str(i['rate'])+'%' for i in hyd]})\n",
    "    xfd=sibresult['tagData'][6]\n",
    "    xfd=pd.DataFrame({G: [i['tagValueName'] for i in xfd],'数量': [i['cnt'] for i in xfd],'占比': [str(i['rate'])+'%' for i in xfd]})\n",
    "    tbd=sibresult['tagData'][7]\n",
    "    tbd=pd.DataFrame({H: [i['tagValueName'] for i in tbd],'数量': [i['cnt'] for i in tbd],'占比': [str(i['rate'])+'%' for i in tbd]})\n",
    "    xqp=sibresult['tagData'][8]\n",
    "    xqp=pd.DataFrame({I: [i['tagValueName'] for i in xqp],'数量': [i['cnt'] for i in xqp],'占比': [str(i['rate'])+'%' for i in xqp]})\n",
    "    writer=pd.ExcelWriter(file[:-5]+'.xlsx')\n",
    "    sex.to_excel(writer,index=False)\n",
    "    year.to_excel(writer,startcol=3,index=False)\n",
    "    occ.to_excel(writer,startcol=6,index=False)\n",
    "    sta.to_excel(writer,startcol=9,index=False)\n",
    "    prc.to_excel(writer,startcol=12,index=False)\n",
    "    hyd.to_excel(writer,startcol=15,index=False)\n",
    "    xfd.to_excel(writer,startcol=18,index=False)\n",
    "    tbd.to_excel(writer,startcol=21,index=False)\n",
    "    xqp.to_excel(writer,startcol=24,index=False)\n",
    "    writer.save()\n",
    "    writer.close()"
   ]
  },
  {
   "cell_type": "code",
   "execution_count": null,
   "metadata": {},
   "outputs": [],
   "source": []
  }
 ],
 "metadata": {
  "kernelspec": {
   "display_name": "Python 3",
   "language": "python",
   "name": "python3"
  },
  "language_info": {
   "codemirror_mode": {
    "name": "ipython",
    "version": 3
   },
   "file_extension": ".py",
   "mimetype": "text/x-python",
   "name": "python",
   "nbconvert_exporter": "python",
   "pygments_lexer": "ipython3",
   "version": "3.6.5"
  }
 },
 "nbformat": 4,
 "nbformat_minor": 2
}
